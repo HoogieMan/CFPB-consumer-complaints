{
 "cells": [
  {
   "cell_type": "code",
   "execution_count": 127,
   "metadata": {
    "collapsed": false
   },
   "outputs": [
    {
     "name": "stderr",
     "output_type": "stream",
     "text": [
      "UsageError: unrecognized arguments: #show the plots right in the iPython notebook"
     ]
    }
   ],
   "source": [
    "import Algorithmia\n",
    "import matplotlib.pyplot as plt\n",
    "import matplotlib.dates as mdates\n",
    "from datetime import datetime\n",
    "from userConfig import socrataClient, algoKey #importing our SODAPy and Algorithmia user configurations\n",
    "import dateutil.parser\n",
    "import seaborn as sns\n",
    "%matplotlib notebook #show the plots right in the iPython notebook\n",
    "sns.set(color_codes=True)\n"
   ]
  },
  {
   "cell_type": "code",
   "execution_count": 128,
   "metadata": {
    "collapsed": false
   },
   "outputs": [
    {
     "name": "stdout",
     "output_type": "stream",
     "text": [
      "Response received\n",
      "[{'zip_code': '188XX', 'issue': 'Incorrect information on credit report', 'company': 'TransUnion Intermediate Holdings, Inc.', 'submitted_via': 'Web', 'date_received': '2016-04-27T13:14:00', 'complaint_what_happened': 'Latest update on XXXX XXXX. Filed for judgment and won. I do not owe XXXX any money and in fact they owe me money. They owe me {$460.00} as per case no. XXXX. attached. \\n', 'sub_issue': 'Account terms', 'state': 'PA', 'company_response': 'Closed with non-monetary relief', 'tags': 'Servicemember', 'consumer_consent_provided': 'Consent provided', 'complaint_id': '1898518', 'consumer_disputed': 'No', 'date_sent_to_company': '2016-04-27T13:14:00', 'timely': 'Yes', 'company_public_response': 'Company has responded to the consumer and the CFPB and chooses not to provide a public response', 'product': 'Credit reporting'}]\n"
     ]
    }
   ],
   "source": [
    "#make a single request to CFPB / Socrata dataset\n",
    "try:\n",
    "    response = socrataClient.get(\"nsyy-je5y\", content_type=\"json\",limit=1)\n",
    "    print(\"Response received\")\n",
    "    print(response)\n",
    "except:\n",
    "    print('Got an error code')\n",
    "\n",
    "data = response[0]"
   ]
  },
  {
   "cell_type": "code",
   "execution_count": 129,
   "metadata": {
    "collapsed": false
   },
   "outputs": [],
   "source": [
    "#extract just the narrative text for records \n",
    "complaintText = data[\"complaint_what_happened\"]\n",
    "\n",
    "#print(complaintText)"
   ]
  },
  {
   "cell_type": "code",
   "execution_count": 130,
   "metadata": {
    "collapsed": false
   },
   "outputs": [
    {
     "name": "stdout",
     "output_type": "stream",
     "text": [
      "AlgoResponse(result=[{'neutral': 0.84, 'positive': 0.1, 'compound': 0.3612, 'sentence': 'Latest update on XXXX XXXX. Filed for judgment and won. I do not owe XXXX any money and in fact they owe me money. They owe me {$460.00} as per case no. XXXX. attached. \\n', 'negative': 0.06}],metadata=Metadata(content_type='json',duration=0.11977717700000001,stdout=None))\n"
     ]
    }
   ],
   "source": [
    "#posting text to Algorithmia - Social Sentiment Analysis API, for scoring of text\n",
    "#https://algorithmia.com/algorithms/nlp/SocialSentimentAnalysis\n",
    "try:\n",
    "    algoClient = Algorithmia.client(algoKey).algo('nlp/SocialSentimentAnalysis/0.1.2')\n",
    "    daInput = {\"sentence\":complaintText}\n",
    "    AlgoResponse = algoClient.pipe(daInput)\n",
    "    print(AlgoResponse)\n",
    "except:\n",
    "    print(\"An error occurred\")"
   ]
  },
  {
   "cell_type": "code",
   "execution_count": 131,
   "metadata": {
    "collapsed": false
   },
   "outputs": [
    {
     "name": "stdout",
     "output_type": "stream",
     "text": [
      "0.3612\n"
     ]
    }
   ],
   "source": [
    "#isolating our 'compound' Social Sentiment score for this particular complaint\n",
    "compoundScore = AlgoResponse.result[0]['compound']\n",
    "print(compoundScore)"
   ]
  },
  {
   "cell_type": "code",
   "execution_count": 132,
   "metadata": {
    "collapsed": false
   },
   "outputs": [
    {
     "name": "stdout",
     "output_type": "stream",
     "text": [
      "Response received\n"
     ]
    }
   ],
   "source": [
    "#get multiple complaint records from CFPB\n",
    "try:\n",
    "    response = socrataClient.get(\"nsyy-je5y\", content_type=\"json\",where=\"date_received>'2016-01-01'\")\n",
    "    print(\"Response received\")\n",
    "    #print(\"response is \" + str(response))\n",
    "except:\n",
    "    print('Got an error code')"
   ]
  },
  {
   "cell_type": "code",
   "execution_count": 134,
   "metadata": {
    "collapsed": false
   },
   "outputs": [],
   "source": [
    "#building list of dates for eventual plotting alongside Algorithmia scores\n",
    "#ISOdateList = []\n",
    "#for num in range(0,numComps):\n",
    "#    daDate = response[num][\"date_received\"]\n",
    "#    ISOdateList.append(daDate)\n",
    "#print(\"ISOdateList is \" + str(ISOdateList))"
   ]
  },
  {
   "cell_type": "code",
   "execution_count": 135,
   "metadata": {
    "collapsed": false
   },
   "outputs": [
    {
     "name": "stdout",
     "output_type": "stream",
     "text": [
      "[datetime.datetime(2016, 4, 23, 14, 6, 35), datetime.datetime(2016, 4, 21, 22, 3, 18), datetime.datetime(2016, 4, 20, 22, 12, 17), datetime.datetime(2016, 4, 20, 20, 19, 1), datetime.datetime(2016, 4, 20, 18, 58, 21)]\n"
     ]
    }
   ],
   "source": [
    "#parsing these dates from Socrata's ISO 860 format into Python's datetime requirement\n",
    "#dateList = []\n",
    "#for isoDate in ISOdateList:\n",
    "#    date = dateutil.parser.parse(isoDate) # parsing ISO 8601 extended format\n",
    "#    dateList.append(date)\n",
    "#print(dateList[:5])\n",
    "\n",
    "#then converting datetime values to format required for matplotlib\n",
    "#dates = mdates.date2num(dateList)\n",
    "#print(dates)"
   ]
  },
  {
   "cell_type": "code",
   "execution_count": 136,
   "metadata": {
    "collapsed": false
   },
   "outputs": [
    {
     "name": "stdout",
     "output_type": "stream",
     "text": [
      "Sentence List built\n"
     ]
    }
   ],
   "source": [
    "#building a list of sentences to send to Algorithmia Social Sentiment API\n",
    "sentList = []\n",
    "for num in range(0,len(response)):\n",
    "    complaintText = response[num][\"complaint_what_happened\"]\n",
    "    sentList.append(complaintText)\n",
    "\n",
    "#print(\"Sentence List is \" + str(sentList))\n",
    "print(\"Sentence List built\")"
   ]
  },
  {
   "cell_type": "code",
   "execution_count": 137,
   "metadata": {
    "collapsed": false
   },
   "outputs": [
    {
     "name": "stdout",
     "output_type": "stream",
     "text": [
      "AlgoResponse received\n"
     ]
    }
   ],
   "source": [
    "#send list of complaints to Algorithmia for scoring\n",
    "algoClient = Algorithmia.client(algoKey).algo('nlp/SocialSentimentAnalysis/0.1.2')\n",
    "daInput = {\"sentenceList\":sentList}\n",
    "AlgoResponse = algoClient.pipe(daInput)\n",
    "#print(AlgoResponse)\n",
    "print(\"AlgoResponse received\")"
   ]
  },
  {
   "cell_type": "code",
   "execution_count": 138,
   "metadata": {
    "collapsed": false
   },
   "outputs": [
    {
     "name": "stdout",
     "output_type": "stream",
     "text": [
      "[0.3612, -0.5873, -0.5873, 0.0018, 0.965]\n"
     ]
    }
   ],
   "source": [
    "#collecting scores together into parallel list\n",
    "scoreList = []\n",
    "for x in range(0,len(response)):\n",
    "    daScore = AlgoResponse.result[x][\"compound\"]\n",
    "    scoreList.append(daScore)\n",
    "\n",
    "print(scoreList[:5])"
   ]
  },
  {
   "cell_type": "code",
   "execution_count": 139,
   "metadata": {
    "collapsed": false
   },
   "outputs": [],
   "source": [
    "####now, we'll plot the scores over time to see if positivity/negativity has changed####\n",
    "#plot_date(dates, scoreList)\n",
    "\n",
    "#plt.gca().xaxis.set_major_formatter(mdates.DateFormatter('%m/%d/%Y'))\n",
    "#plt.gca().xaxis.set_major_locator(mdates.DayLocator())\n",
    "#plt.plot(dates,scoreList,\"o\")\n",
    "#plt.gcf().autofmt_xdate()\n",
    "\n",
    "#plt.plot(dates,scoreList)"
   ]
  },
  {
   "cell_type": "code",
   "execution_count": 140,
   "metadata": {
    "collapsed": false
   },
   "outputs": [
    {
     "data": {
      "text/plain": [
       "<matplotlib.axes._subplots.AxesSubplot at 0x245f7128198>"
      ]
     },
     "execution_count": 140,
     "metadata": {},
     "output_type": "execute_result"
    },
    {
     "data": {
      "image/png": "[encoded data removed]",
      "text/plain": [
       "<matplotlib.figure.Figure at 0x245f7122c50>"
      ]
     },
     "metadata": {},
     "output_type": "display_data"
    }
   ],
   "source": [
    "#plotting a histogram of all scores\n",
    "sns.distplot(scoreList, bins=10, axlabel = \"Overall Score Distribution\")"
   ]
  },
  {
   "cell_type": "code",
   "execution_count": 144,
   "metadata": {
    "collapsed": false
   },
   "outputs": [
    {
     "name": "stdout",
     "output_type": "stream",
     "text": [
      "Response received\n",
      "Sentence List built\n",
      "AlgoResponse received\n",
      "[0, -0.0516, -0.9337, 0.1027, 0.964]\n",
      "Response received\n",
      "Sentence List built\n",
      "AlgoResponse received\n",
      "[0.171, -0.8779, 0.8225, 0.0387, 0.765]\n"
     ]
    },
    {
     "data": {
      "image/png": "[encoded data removed]",
      "text/plain": [
       "<matplotlib.figure.Figure at 0x245f5efb7b8>"
      ]
     },
     "metadata": {},
     "output_type": "display_data"
    }
   ],
   "source": [
    "###Running the same thing for different financial service providers\n",
    "companyList = [\"Equifax\",\"Bank of America\"]\n",
    "\n",
    "for company in companyList:\n",
    "    try:\n",
    "        response = socrataClient.get(\"nsyy-je5y\", content_type=\"json\",where=\"date_received>'2016-01-01'\", company=company)\n",
    "        print(\"Response received\")\n",
    "        #print(\"response is \" + str(response))\n",
    "    except:\n",
    "        print('Got an error code')\n",
    "\n",
    "    #building a list of sentences to send to Algorithmia Social Sentiment API\n",
    "    sentList = []\n",
    "    for num in range(0,len(response)):\n",
    "        complaintText = response[num][\"complaint_what_happened\"]\n",
    "        sentList.append(complaintText)\n",
    "\n",
    "    #print(\"Sentence List is \" + str(sentList))\n",
    "    print(\"Sentence List built\")\n",
    "    #data = response[2]\n",
    "    #print(data)\n",
    "\n",
    "    #send list of complaints to Algorithmia for scoring\n",
    "    algoClient = Algorithmia.client(algoKey).algo('nlp/SocialSentimentAnalysis/0.1.2')\n",
    "    daInput = {\"sentenceList\":sentList}\n",
    "    AlgoResponse = algoClient.pipe(daInput)\n",
    "    #print(AlgoResponse)\n",
    "    print(\"AlgoResponse received\")\n",
    "\n",
    "    #collecting scores together into parallel list\n",
    "    scoreList = []\n",
    "    for x in range(0,len(response)):\n",
    "        daScore = AlgoResponse.result[x][\"compound\"]\n",
    "        scoreList.append(daScore)\n",
    "\n",
    "    print(scoreList[:5])\n",
    "\n",
    "    #plotting a histogram of scores\n",
    "    if company == \"Equifax\":\n",
    "        sns.distplot(scoreList, bins=10, color=\"r\", axlabel = company + \" Score Distribution\")\n",
    "    elif company == \"Bank of America\":\n",
    "        sns.distplot(scoreList, bins=10, color=\"g\", axlabel = company + \" Score Distribution\")\n",
    "    else:\n",
    "        print(\"An error occurred\")"
   ]
  },
  {
   "cell_type": "code",
   "execution_count": null,
   "metadata": {
    "collapsed": true
   },
   "outputs": [],
   "source": []
  }
 ],
 "metadata": {
  "kernelspec": {
   "display_name": "Python 3",
   "language": "python",
   "name": "python3"
  },
  "language_info": {
   "codemirror_mode": {
    "name": "ipython",
    "version": 3
   },
   "file_extension": ".py",
   "mimetype": "text/x-python",
   "name": "python",
   "nbconvert_exporter": "python",
   "pygments_lexer": "ipython3",
   "version": "3.5.1"
  }
 },
 "nbformat": 4,
 "nbformat_minor": 0
}
